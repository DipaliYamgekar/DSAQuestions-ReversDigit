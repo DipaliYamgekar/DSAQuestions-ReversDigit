{
 "cells": [
  {
   "cell_type": "code",
   "execution_count": 2,
   "id": "427574b2",
   "metadata": {},
   "outputs": [
    {
     "name": "stdout",
     "output_type": "stream",
     "text": [
      "Reverse of no. is  765\n"
     ]
    }
   ],
   "source": [
    "rev_num = 0\n",
    "base_pos = 1\n",
    "\n",
    "def reversDigits(num):\n",
    "\tglobal rev_num\n",
    "\tglobal base_pos\n",
    "\tif(num > 0):\n",
    "\t\treversDigits((int)(num / 10))\n",
    "\t\trev_num += (num % 10) * base_pos\n",
    "\t\tbase_pos *= 10\n",
    "\treturn rev_num\n",
    "\n",
    "\n",
    "\n",
    "num = 567\n",
    "print(\"Reverse of no. is \",\n",
    "\treversDigits(num))"
   ]
  },
  {
   "cell_type": "code",
   "execution_count": null,
   "id": "8fc5506b",
   "metadata": {},
   "outputs": [],
   "source": []
  }
 ],
 "metadata": {
  "kernelspec": {
   "display_name": "Python 3 (ipykernel)",
   "language": "python",
   "name": "python3"
  },
  "language_info": {
   "codemirror_mode": {
    "name": "ipython",
    "version": 3
   },
   "file_extension": ".py",
   "mimetype": "text/x-python",
   "name": "python",
   "nbconvert_exporter": "python",
   "pygments_lexer": "ipython3",
   "version": "3.9.12"
  }
 },
 "nbformat": 4,
 "nbformat_minor": 5
}
